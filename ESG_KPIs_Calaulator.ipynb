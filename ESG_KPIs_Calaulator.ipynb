{
  "nbformat": 4,
  "nbformat_minor": 0,
  "metadata": {
    "colab": {
      "provenance": [],
      "authorship_tag": "ABX9TyONzAvU1fPCFG1C2YSPIkWI",
      "include_colab_link": true
    },
    "kernelspec": {
      "name": "python3",
      "display_name": "Python 3"
    },
    "language_info": {
      "name": "python"
    }
  },
  "cells": [
    {
      "cell_type": "markdown",
      "metadata": {
        "id": "view-in-github",
        "colab_type": "text"
      },
      "source": [
        "<a href=\"https://colab.research.google.com/github/zetacheng/ESG_public/blob/main/ESG_KPIs_Calaulator.ipynb\" target=\"_parent\"><img src=\"https://colab.research.google.com/assets/colab-badge.svg\" alt=\"Open In Colab\"/></a>"
      ]
    },
    {
      "cell_type": "markdown",
      "source": [
        "Import all necessay modules"
      ],
      "metadata": {
        "id": "DyqHkgYRrkfc"
      }
    },
    {
      "cell_type": "code",
      "source": [
        "!pip install tabulate"
      ],
      "metadata": {
        "colab": {
          "base_uri": "https://localhost:8080/"
        },
        "id": "HlPuNp8tsfnR",
        "outputId": "35dc0458-cd0c-47c3-d5e1-38aee207cd44"
      },
      "execution_count": 1,
      "outputs": [
        {
          "output_type": "stream",
          "name": "stdout",
          "text": [
            "Looking in indexes: https://pypi.org/simple, https://us-python.pkg.dev/colab-wheels/public/simple/\n",
            "Requirement already satisfied: tabulate in /usr/local/lib/python3.10/dist-packages (0.8.10)\n"
          ]
        }
      ]
    },
    {
      "cell_type": "code",
      "source": [
        "from google.colab import drive\n",
        "import pandas as pd\n",
        "drive.mount('/content/drive', force_remount=True)\n",
        "from typing import Optional\n",
        "from tabulate import tabulate\n"
      ],
      "metadata": {
        "colab": {
          "base_uri": "https://localhost:8080/"
        },
        "id": "63jKT5sZrh1S",
        "outputId": "151bc17d-da72-441f-e303-ce39f173efb2"
      },
      "execution_count": 2,
      "outputs": [
        {
          "output_type": "stream",
          "name": "stdout",
          "text": [
            "Mounted at /content/drive\n"
          ]
        }
      ]
    },
    {
      "cell_type": "code",
      "source": [
        "import warnings\n",
        "warnings.filterwarnings(\"ignore\", category=UserWarning)\n",
        "\n",
        "import traceback"
      ],
      "metadata": {
        "id": "uI3ijcsnFGdI"
      },
      "execution_count": 3,
      "outputs": []
    },
    {
      "cell_type": "markdown",
      "source": [
        "Provide the paths of all data files"
      ],
      "metadata": {
        "id": "QhmT7j0_r_vk"
      }
    },
    {
      "cell_type": "code",
      "source": [
        "project_path = \"/content/drive/MyDrive/Projects/\"\n",
        "\n",
        "env_data_1 = \"file1.xlsx\"\n",
        "env_data_2 = \"file2.xlsx\"\n",
        "env_data_3 = \"file3.xlsx\"\n",
        "\n",
        "env_data_list = [env_data_1, env_data_2, env_data_3] \n",
        "#env_data_list = [env_data_3] \n",
        "\n",
        "emission_factor_table_path = \"/content/drive/MyDrive/Projects/2023_ESG/Emission_Factor.xlsx\"\n",
        "\n",
        "env_data_paths = [project_path + file_name for file_name in env_data_list]\n"
      ],
      "metadata": {
        "id": "zAr0tWHYhkwW"
      },
      "execution_count": 21,
      "outputs": []
    },
    {
      "cell_type": "code",
      "source": [
        "language = \"EN\" # CN=Chinese / EN=English\n",
        "nor_factor = \"Gross floor area\" # 可供出租面积(平方米) / Gross floor area\n",
        "if language==\"EN\":\n",
        "  mobile_fuel_consumption_col_name = 'Fuel Consumption'\n",
        "  mobile_mileage_col_name = 'Distance Travelled during the period/km'\n",
        "  mobile_fuel_id_col_name = 'Transportation License #'\n",
        "  mobile_fuel_code_col_name = 'Types of Transportation'\n",
        "  mobile_fuel_type_col_name = 'Fuel Types'\n",
        "  energy_consumption_col_name = 'Energy Consumption'\n",
        "  energy_location_col_name = 'Location'\n",
        "  paper_usage_col_name = 'Usage (kg)'\n",
        "  water_consumption_col_name = 'Water Consumption'\n",
        "else:\n",
        "  mobile_fuel_consumption_col_name = '燃料消耗值'\n",
        "  mobile_mileage_col_name = '年內航行公里'\n",
        "  mobile_fuel_id_col_name = '车牌号码'\n",
        "  mobile_fuel_code_col_name = '运输工具分类'\n",
        "  mobile_fuel_type_col_name = '燃料类别'\n",
        "  energy_consumption_col_name = '能耗值'\n",
        "  energy_location_col_name = '地區'\n",
        "  paper_usage_col_name = '使用量(千克)'\n",
        "  water_consumption_col_name = '水資源消耗'"
      ],
      "metadata": {
        "id": "3XpbPHCphtav"
      },
      "execution_count": 22,
      "outputs": []
    },
    {
      "cell_type": "markdown",
      "source": [
        "Class ExcelDataReader\n",
        "\n",
        "it is a parent class of all data objects\n",
        "\n",
        "It initial with the url of the excel files\n",
        "\n",
        "It can extract data from the sheet name provided"
      ],
      "metadata": {
        "id": "BpZBoE-CrLpY"
      }
    },
    {
      "cell_type": "code",
      "execution_count": 23,
      "metadata": {
        "id": "Ohn6-W1hfgM-"
      },
      "outputs": [],
      "source": [
        "class ExcelDataReader:\n",
        "    def __init__(self, file_id):\n",
        "        self.file_id = file_id\n",
        "\n",
        "    def read_excel(self, sheet_name, header_row=0):  # Modify the header_row parameter\n",
        "        data = pd.read_excel(self.file_id, sheet_name=sheet_name, header=header_row)  # Modify this line\n",
        "        return data\n",
        "\n",
        "    def get_data(self):\n",
        "        data = self.read_excel(self.data_path)\n",
        "        return data"
      ]
    },
    {
      "cell_type": "code",
      "source": [
        "class Data_Manager:\n",
        "    def __init__(self, file_id, sheet_name):\n",
        "        self.data_reader = ExcelDataReader(file_id)\n",
        "        self.sheet_name = sheet_name\n",
        "        self.sheet = self.data_reader.read_excel(sheet_name=self.sheet_name)\n",
        "        self.populate_properties()\n",
        "\n",
        "    def populate_properties(self):\n",
        "        ncols = len(self.sheet.columns)\n",
        "        for i in range(ncols):\n",
        "            column_name = self.sheet.columns[i]\n",
        "            if not self.sheet[column_name].isnull().all():\n",
        "                values = self.sheet[column_name].dropna().tolist()[1:]\n",
        "                setattr(self, str(column_name), values)  # Convert column_name to string\n",
        "\n",
        "    def get_column_data(self, column_name):\n",
        "        if hasattr(self, column_name):\n",
        "            data = getattr(self, column_name)\n",
        "            return [float(x) if isinstance(x, (int, float)) and str(x) != 'nan' else (x if str(x) != 'nan' and str(x) != '' else None) for x in data]\n",
        "        else:\n",
        "            raise AttributeError(f\"{column_name} not found in the {self.sheet_name}\")\n",
        "\n",
        "\n",
        "    def calculate_total(self, column_name):\n",
        "        if hasattr(self, column_name):\n",
        "            return sum(getattr(self, column_name))\n",
        "        else:\n",
        "            return 0\n",
        "\n",
        "    def get_emission_factor(self, emission_type, source_type, code):\n",
        "      emission_code = emission_type + source_type + code\n",
        "      return self.emission_factor.get_emission_factor(emission_code)\n",
        "            \n",
        "    def print_column_data(self, column_name):\n",
        "        column_data = self.get_column_data(column_name)\n",
        "        print(f\"{column_name}: {column_data}\")"
      ],
      "metadata": {
        "id": "eB9JlvoqNVc4"
      },
      "execution_count": 24,
      "outputs": []
    },
    {
      "cell_type": "code",
      "source": [
        "class Emission_Factor:\n",
        "    sheet_name = 'Emission_factors'\n",
        "\n",
        "    def __init__(self, file_path: str):\n",
        "        self.data_reader = pd.read_excel(file_path, sheet_name=self.sheet_name)\n",
        "        self.data = self.data_reader.set_index('Code')\n",
        "\n",
        "    def get_emission_factor(self, code: str) -> Optional[float]:\n",
        "        try:\n",
        "            return float(self.data.loc[code, 'Emission Factor'])\n",
        "        except KeyError:\n",
        "            return None"
      ],
      "metadata": {
        "id": "V0H_wnI6Uuyq"
      },
      "execution_count": 25,
      "outputs": []
    },
    {
      "cell_type": "markdown",
      "source": [
        "Check if the emission factor table is working"
      ],
      "metadata": {
        "id": "FdMlw77trXpu"
      }
    },
    {
      "cell_type": "code",
      "source": [
        "emission_factor = Emission_Factor(emission_factor_table_path)\n",
        "# code = \"NOx Emission|Mobile Combustion Sources|私家车/骄车\"\n",
        "code = \"NOx Emission|Mobile Combustion Sources|Passenger Car\"\n",
        "emission_factor_value = emission_factor.get_emission_factor(code)\n",
        "print(f\"The emission factor for code {code} is {emission_factor_value}\")"
      ],
      "metadata": {
        "colab": {
          "base_uri": "https://localhost:8080/"
        },
        "id": "dVlJdppUVRwk",
        "outputId": "71c9a37d-b69b-47f9-f0b7-a02116fb4d4d"
      },
      "execution_count": 38,
      "outputs": [
        {
          "output_type": "stream",
          "name": "stdout",
          "text": [
            "The emission factor for code NOx Emission|Mobile Combustion Sources|Passenger Car is 0.0747\n"
          ]
        }
      ]
    },
    {
      "cell_type": "code",
      "source": [
        "class Normalization_Factor(Data_Manager):\n",
        "    def __init__(self, file_id):\n",
        "        super().__init__(file_id, sheet_name='Normalization_Factor')\n",
        "\n",
        "    def calculate_area(self): \n",
        "        return self.calculate_total(nor_factor)"
      ],
      "metadata": {
        "id": "TZkLwqX6rwyg"
      },
      "execution_count": 27,
      "outputs": []
    },
    {
      "cell_type": "code",
      "source": [
        "class Mobile_Fuel(Data_Manager):\n",
        "    def __init__(self, file_id, emission_factor_file_path):\n",
        "        super().__init__(file_id, sheet_name='Mobile_Fuel')\n",
        "        self.file_id = file_id\n",
        "        self.emission_factor = Emission_Factor(emission_factor_file_path)\n",
        "\n",
        "    def calculate_mobile_fuel_consumption(self):\n",
        "        return self.calculate_total(mobile_fuel_consumption_col_name)\n",
        "\n",
        "    def get_mobile_fuel_data(self):\n",
        "        if hasattr(self, mobile_fuel_consumption_col_name):\n",
        "            data = self.get_column_data(mobile_fuel_consumption_col_name)\n",
        "            return [x if x is not None else 0 for x in data]\n",
        "        else:\n",
        "            raise AttributeError(f\"{mobile_fuel_consumption_col_name} not found in the {self.sheet_name}\")\n",
        "    \n",
        "    def get_mobile_mileage_data(self):\n",
        "        if hasattr(self, mobile_mileage_col_name):\n",
        "            data = self.get_column_data(mobile_mileage_col_name)\n",
        "            return [x if x is not None else 0 for x in data]\n",
        "        else:\n",
        "            raise AttributeError(f\"{mobile_mileage_col_name} not found in the {self.sheet_name}\")\n",
        "\n",
        "    def get_mobile_fuel_id_data(self):\n",
        "        if hasattr(self, mobile_fuel_id_col_name):\n",
        "            data = self.get_column_data(mobile_fuel_id_col_name)\n",
        "            return [x if x is not None else \"not found\" for x in data]\n",
        "        else:\n",
        "            raise AttributeError(f\"{mobile_fuel_id_col_name} not found in the {self.sheet_name}\")\n",
        "            \n",
        "    def get_mobile_fuel_code_data(self):\n",
        "        if hasattr(self, mobile_fuel_code_col_name):\n",
        "            data = self.get_column_data(mobile_fuel_code_col_name)\n",
        "            return [x if x is not None else \"not found\" for x in data]\n",
        "        else:\n",
        "            raise AttributeError(f\"{mobile_fuel_code_col_name} not found in the {self.sheet_name}\")\n",
        "\n",
        "    def get_mobile_fuel_type_data(self):\n",
        "        if hasattr(self, mobile_fuel_type_col_name):\n",
        "            data = self.get_column_data(mobile_fuel_type_col_name)\n",
        "            return [x if x is not None else \"not found\" for x in data]\n",
        "        else:\n",
        "            raise AttributeError(f\"{mobile_fuel_type_col_name} not found in the {self.sheet_name}\")\n",
        "\n",
        "    def get_mobile_fuel_emission_factor(self, emission_type, code):\n",
        "      return self.get_emission_factor(emission_type, \"|Mobile Combustion Sources|\", code)\n",
        "\n",
        "    def get_mobile_fuel_emission_factors(self, emission_type, codes):\n",
        "      return [self.get_mobile_fuel_emission_factor(emission_type, code) for code in codes]\n"
      ],
      "metadata": {
        "id": "WzypXW7oH0f0"
      },
      "execution_count": 28,
      "outputs": []
    },
    {
      "cell_type": "code",
      "source": [
        "class Energy_Consumption(Data_Manager):\n",
        "    def __init__(self, file_id, emission_factor_file_path):\n",
        "        super().__init__(file_id, sheet_name='Energy_Consumption')\n",
        "        self.file_id = file_id\n",
        "        self.emission_factor = Emission_Factor(emission_factor_file_path)\n",
        "        \n",
        "    def get_energy_data(self):\n",
        "        if hasattr(self, energy_consumption_col_name):\n",
        "            data = self.get_column_data(energy_consumption_col_name)\n",
        "            return [x if x is not None else 0 for x in data]\n",
        "        else:\n",
        "            raise AttributeError(f\"{energy_consumption_col_name} not found in the {self.sheet_name}\")\n",
        "\n",
        "    def get_location(self):\n",
        "        if hasattr(self, energy_location_col_name):\n",
        "            data = self.get_column_data(energy_location_col_name)\n",
        "            return [x if x is not None else \"not found\" for x in data]\n",
        "        else:\n",
        "            raise AttributeError(f\"{energy_location_col_name} not found in the {self.sheet_name}\")\n",
        "\n",
        "    def get_energy_consumption_emission_factor(self, emission_type, code):\n",
        "      return self.get_emission_factor(emission_type, \"|\", code)\n",
        "\n",
        "    def get_energy_consumption_emission_factors(self, emission_type, codes):\n",
        "      return [self.get_energy_consumption_emission_factor(emission_type, code) for code in codes]"
      ],
      "metadata": {
        "id": "_cH2ywkiJHgh"
      },
      "execution_count": 29,
      "outputs": []
    },
    {
      "cell_type": "code",
      "source": [
        "class Paper_Consumption(Data_Manager):\n",
        "    def __init__(self, file_id, emission_factor_file_path):\n",
        "        super().__init__(file_id, sheet_name='Paper_Usage')\n",
        "        self.file_id = file_id\n",
        "        self.emission_factor = Emission_Factor(emission_factor_file_path)\n",
        "        \n",
        "    def get_paper_data(self):\n",
        "        if hasattr(self, paper_usage_col_name):\n",
        "            data = self.get_column_data(paper_usage_col_name)\n",
        "            return [x if x is not None else 0 for x in data]\n",
        "        else:\n",
        "            raise AttributeError(f\"{paper_usage_col_name} not found in the {self.sheet_name}\")"
      ],
      "metadata": {
        "id": "HkFvyngjgYHb"
      },
      "execution_count": 34,
      "outputs": []
    },
    {
      "cell_type": "code",
      "source": [
        "class Water_Consumption(Data_Manager):\n",
        "    def __init__(self, file_id, emission_factor_file_path):\n",
        "        super().__init__(file_id, sheet_name='Water_Consumption')\n",
        "        self.file_id = file_id\n",
        "        self.emission_factor = Emission_Factor(emission_factor_file_path)\n",
        "        \n",
        "    def get_paper_data(self):\n",
        "        if hasattr(self, water_consumption_col_name):\n",
        "            data = self.get_column_data(water_consumption_col_name)\n",
        "            return [x if x is not None else 0 for x in data]\n",
        "        else:\n",
        "            raise AttributeError(f\"{water_consumption_col_name} not found in the {self.sheet_name}\")"
      ],
      "metadata": {
        "id": "L6oEeZ3UnGhc"
      },
      "execution_count": 31,
      "outputs": []
    },
    {
      "cell_type": "code",
      "source": [
        "class KPIs:\n",
        "    def __init__(self, file_paths, emission_factor_file_path):\n",
        "        self.file_paths = file_paths\n",
        "        self.normalization_factors = [Normalization_Factor(file_path) for file_path in file_paths]\n",
        "        self.mobile_fuel = [Mobile_Fuel(file_path, emission_factor_file_path) for file_path in file_paths]\n",
        "        self.energy_consumption = [Energy_Consumption(file_path, emission_factor_file_path) for file_path in file_paths]\n",
        "        self.paper_consumption = [Paper_Consumption(file_path, emission_factor_file_path) for file_path in file_paths]\n",
        "        self.water_consumption = [Water_Consumption(file_path, emission_factor_file_path) for file_path in file_paths]\n",
        "\n",
        "    def calculate_total_area(self):\n",
        "        #print([nf.calculate_area() for nf in self.normalization_factors]) \n",
        "        total_area = sum([nf.calculate_area() for nf in self.normalization_factors])\n",
        "        return total_area\n",
        "\n",
        "    def calculate_total_mobile_fuel_consumption(self):\n",
        "        total_mobile_fuel_consumption = sum([mf.calculate_mobile_fuel_consumption() for mf in self.mobile_fuel])\n",
        "        return total_mobile_fuel_consumption\n",
        "\n",
        "    def get_source_name(self, file_id):\n",
        "        start = file_id.find(\"Environmental_\") + len(\"Environmental_\")\n",
        "        end = file_id.find(\".xlsx\")\n",
        "        return file_id[start:end]\n",
        "\n",
        "    def calculate_emissions_from_mobile_fuel(self):        \n",
        "        Fuel_KWH_Total = 0\n",
        "        NOX_Total = 0\n",
        "        SOX_Total = 0\n",
        "        PM_Total = 0\n",
        "        CO2_Total = 0\n",
        "        CH4_Total = 0\n",
        "        N2O_Total = 0\n",
        "        for mf in self.mobile_fuel:\n",
        "            try:\n",
        "                source_name = self.get_source_name(mf.file_id)\n",
        "                #print(f\"{mf.sheet_name} - from {source_name}:\")\n",
        "                mobile_fuel_id_data = mf.get_mobile_fuel_id_data()\n",
        "                mobile_fuel_code_data = mf.get_mobile_fuel_code_data()\n",
        "                mobile_fuel_type_data = mf.get_mobile_fuel_type_data()\n",
        "                mobile_fuel_combined_code = []\n",
        "                for i in range(len(mobile_fuel_code_data)):\n",
        "                    combined_element = mobile_fuel_code_data[i] + mobile_fuel_type_data[i]\n",
        "                    mobile_fuel_combined_code.append(combined_element)\n",
        "                #mobile_fuel_combined_code = [(code, fuel_type) for code, fuel_type in zip(mobile_fuel_code_data, mobile_fuel_type_data)]\n",
        "                mobile_fuel_consumption_data = mf.get_mobile_fuel_data()\n",
        "                mobile_fuel_mileage_data = mf.get_mobile_mileage_data()\n",
        "                NOX_emission_factor = mf.get_mobile_fuel_emission_factors(\"NOx Emission\", mobile_fuel_code_data)\n",
        "                SOX_emission_factor = mf.get_mobile_fuel_emission_factors(\"SOx Emission\", mobile_fuel_type_data)\n",
        "                PM_emission_factor = mf.get_mobile_fuel_emission_factors(\"PM Emission\", mobile_fuel_code_data)\n",
        "                CO2_emission_factor = mf.get_mobile_fuel_emission_factors(\"CO2 Emission\", mobile_fuel_type_data)\n",
        "                CH4_emission_factor = mf.get_mobile_fuel_emission_factors(\"CH4 Emission\", mobile_fuel_combined_code)\n",
        "                N2O_emission_factor = mf.get_mobile_fuel_emission_factors(\"N2O Emission\", mobile_fuel_combined_code)\n",
        "                table = []\n",
        "                Fuel_KWH_Subtotal = 0\n",
        "                NOX_Subtotal = 0\n",
        "                SOX_Subtotal = 0\n",
        "                PM_Subtotal = 0\n",
        "                CO2_Subtotal = 0\n",
        "                CH4_Subtotal = 0\n",
        "                N2O_Subtotal = 0\n",
        "                for code, data, mileage, NOX_ef, SOX_ef, PM_ef, CO2_ef, CH4_ef, N2O_ef in zip(mobile_fuel_id_data, mobile_fuel_consumption_data, mobile_fuel_mileage_data, NOX_emission_factor, SOX_emission_factor, PM_emission_factor, CO2_emission_factor, CH4_emission_factor, N2O_emission_factor):                    \n",
        "                    table.append([code, data, mileage, data*NOX_ef, data*SOX_ef, data*PM_ef, data*CO2_ef, data*CH4_ef*28, data*N2O_ef*256])\n",
        "                    Fuel_KWH_Subtotal += data*9.11 #Net Calorific Value (kWh/L) = 9.11 for Unleaded Petrol\n",
        "                    NOX_Subtotal += mileage*NOX_ef\n",
        "                    SOX_Subtotal += data*SOX_ef\n",
        "                    PM_Subtotal += mileage*PM_ef\n",
        "                    CO2_Subtotal += data*CO2_ef\n",
        "                    CH4_Subtotal += data*CH4_ef*28\n",
        "                    N2O_Subtotal += data*N2O_ef*256\n",
        "                #print(tabulate(table, headers=['ID', 'Consumption Data', 'Mileage', 'Emission(NOx)', 'Emission(SOx)', 'Emission(PM)', 'Emission(CO2)', 'Emission(CH4)', 'Emission(N2O)'], stralign='left'))\n",
        "                print(f\"Fuel usage in {source_name} is {Fuel_KWH_Subtotal} kWh\")\n",
        "                Fuel_KWH_Total += Fuel_KWH_Subtotal\n",
        "                NOX_Total += NOX_Subtotal\n",
        "                SOX_Total += SOX_Subtotal\n",
        "                PM_Total += PM_Subtotal\n",
        "                CO2_Total += CO2_Subtotal\n",
        "                CH4_Total += CH4_Subtotal\n",
        "                N2O_Total += N2O_Subtotal\n",
        "                #print(f\"NOx emission: {NOX_Subtotal:,.2f}\")\n",
        "                #print(f\"SOx emission: {SOX_Subtotal:,.2f}\")\n",
        "                #print(f\"PM emission: {PM_Subtotal:,.2f}\")\n",
        "                #print(f\"CO2 emission: {CO2_Subtotal:,.2f}\")\n",
        "                #print(f\"CH4 emission: {CH4_Subtotal:,.2f}\")\n",
        "                #print(f\"N2O emission: {N2O_Subtotal:,.2f}\")\n",
        "            except Exception as e:\n",
        "                print(f\"Error occurred while processing {mf.sheet_name}\")\n",
        "                print(f\"Error: {e}\")\n",
        "                print(traceback.format_exc())\n",
        "        return NOX_Total, SOX_Total, PM_Total, CO2_Total, CH4_Total, N2O_Total\n",
        "\n",
        "\n",
        "    def calculate_emissions_from_energy_consumption(self):\n",
        "        CO2_Total = 0\n",
        "        Energy_Total = 0\n",
        "        for ec in self.energy_consumption:\n",
        "            try:\n",
        "                source_name = self.get_source_name(ec.file_id)\n",
        "                #print(f\"{ec.sheet_name} - from {source_name}:\")\n",
        "                energy_consumption_data = ec.get_energy_data()\n",
        "                energy_consumption_location = ec.get_location()\n",
        "                CO2_emission_factor = ec.get_energy_consumption_emission_factors(\"Purchased Electricity\", energy_consumption_location)\n",
        "                table = []\n",
        "                CO2_Subtotal = 0\n",
        "                Energy_subtotal = 0\n",
        "                for data, location, CO2_ef in zip(energy_consumption_data, energy_consumption_location, CO2_emission_factor):                    \n",
        "                  if data is not None and CO2_ef is not None:\n",
        "                      table.append([data, location, data*CO2_ef])\n",
        "                      Energy_subtotal += data\n",
        "                      CO2_Subtotal += data*CO2_ef\n",
        "                  else:\n",
        "                      table.append([data, location, None])\n",
        "                #print(tabulate(table, headers=['Consumption Data', 'Location', 'Emission(CO2)'], stralign='left'))\n",
        "                print(f\"Energy usage in {source_name} is {Energy_subtotal} kWh\")\n",
        "                CO2_Total += CO2_Subtotal\n",
        "                Energy_Total += Energy_subtotal\n",
        "                #print(f\"CO2 emission: {CO2_Subtotal:,.2f}\")\n",
        "            except Exception as e:\n",
        "                print(f\"Error occurred while processing {ec.sheet_name}\")\n",
        "                print(f\"Error: {e}\")\n",
        "                print(traceback.format_exc())\n",
        "        return CO2_Total, Energy_Total\n",
        "\n",
        "    def calculate_emissions_from_paper_consumption(self):\n",
        "        Paper_Total = 0\n",
        "        for pc in self.paper_consumption:\n",
        "            try:\n",
        "                source_name = self.get_source_name(pc.file_id)\n",
        "                paper_consumption_data = pc.get_paper_data()\n",
        "                table = []\n",
        "                Paper_Subtotal = 0\n",
        "                for data in paper_consumption_data:                    \n",
        "                    if data is not None:\n",
        "                        table.append([data])\n",
        "                        Paper_Subtotal += data/1000 #data is in gram\n",
        "                    else:\n",
        "                        table.append([None])\n",
        "                Paper_Total += Paper_Subtotal\n",
        "                print(source_name, Paper_Subtotal/1000)\n",
        "            except Exception as e:\n",
        "                print(f\"Error occurred while processing {pc.sheet_name}\")\n",
        "                print(f\"Error: {e}\")\n",
        "                print(traceback.format_exc())\n",
        "        return Paper_Total\n",
        "\n",
        "    def calculate_emissions_from_water_consumption(self):\n",
        "        Water_Total = 0\n",
        "        for wc in self.water_consumption:\n",
        "            try:\n",
        "                source_name = self.get_source_name(wc.file_id)\n",
        "                water_consumption_data = wc.get_paper_data()\n",
        "                table = []\n",
        "                Water_Subtotal = 0\n",
        "                for data in water_consumption_data:                    \n",
        "                    if data is not None:\n",
        "                        table.append([data])\n",
        "                        Water_Subtotal += data #data is in m3\n",
        "                    else:\n",
        "                        table.append([None])\n",
        "                Water_Total += Water_Subtotal\n",
        "                print(source_name, Water_Subtotal)\n",
        "            except Exception as e:\n",
        "                print(f\"Error occurred while processing {wc.sheet_name}\")\n",
        "                print(f\"Error: {e}\")\n",
        "                print(traceback.format_exc())\n",
        "        return Water_Total\n"
      ],
      "metadata": {
        "id": "cTaSd66Gl5oC"
      },
      "execution_count": 35,
      "outputs": []
    },
    {
      "cell_type": "code",
      "source": [
        "kpi = KPIs(env_data_paths, emission_factor_table_path)\n",
        "total_area = kpi.calculate_total_area()\n",
        "print(f\"Total Area: {total_area:,.2f}\")\n",
        "print(f\"\\n\")\n",
        "MS_NOX_Total, MS_SOX_Total, MS_PM_Total, MS_CO2_Total, MS_CH4_Total, MS_N2O_Total = kpi.calculate_emissions_from_mobile_fuel() #in g for NOx SOx and PM, in kg for CO2 CH4 N2O\n",
        "print(f\"A1 Air Emission\")\n",
        "print(f\"from Mobile Source:\")\n",
        "print(f\"NOx emission: {MS_NOX_Total/1000:,.2f} KG\")\n",
        "print(f\"SOx emission: {MS_SOX_Total/1000:,.2f} KG\")\n",
        "print(f\"PM emission: {MS_PM_Total/1000:,.2f} KG\")\n",
        "print(f\"\\n\")\n",
        "print(f\"A2 GHG Emission Scope 1\")\n",
        "print(f\"from Mobile Source:\")\n",
        "print(f\"CO2 emission: {MS_CO2_Total/1000:,.2f} Tonnes of CO2e\") \n",
        "print(f\"CH4 emission: {MS_CH4_Total/1000:,.2f} Tonnes of CO2e\") \n",
        "print(f\"N2O emission: {MS_N2O_Total/1000:,.2f} Tonnes of CO2e\")\n",
        "total_GHG_S1 = MS_CO2_Total + MS_CH4_Total + MS_N2O_Total  #in kg\n",
        "print(f\"Subtotal: {total_GHG_S1/1000:,.2f} Tonnes of CO2e\")\n",
        "print(f\"\\n\")\n",
        "EC_CO2_Total, Energy_Total = kpi.calculate_emissions_from_energy_consumption() #in kg\n",
        "print(f\"A2 GHG Emission Scope 2\")\n",
        "print(f\"from Energy Consumption:\")\n",
        "print(f\"CO2 emission: {EC_CO2_Total/1000:,.2f} Tonnes of CO2e\") \n",
        "print(f\"\\n\")\n",
        "total_GHG = MS_CO2_Total + MS_CH4_Total + MS_N2O_Total + EC_CO2_Total #in kg\n",
        "print(f\"A2 Total GHG Emission: {total_GHG/1000:,.5f} Tonnes of CO2e\")\n",
        "if total_area == 0:\n",
        "  GHG_intensity = 0\n",
        "else:\n",
        "  GHG_intensity = total_GHG / total_area #in kg CO2e per m2\n",
        "print(f\"A2 Total GHG Emission Intensity: {GHG_intensity/1000:,.2f} Tonnes of CO2e/m2\")\n",
        "print(f\"A2 Total GHG Emission Intensity: {GHG_intensity:,.2f} KG of CO2e/m2\")\n",
        "print(f\"\\n\")\n",
        "Paper_Total = kpi.calculate_emissions_from_paper_consumption()\n",
        "print(f\"A3 Total Paper Consumption: {Paper_Total/1000:,.5f} Tonnes\")\n",
        "print(f\"\\n\")\n",
        "print(f\"B1 Electricity Consumption: {Energy_Total:,.2f} Tonnes\")\n",
        "print(f\"\\n\")\n",
        "Water_Total = kpi.calculate_emissions_from_water_consumption()\n",
        "print(f\"B2 Total Water Consumption: {Water_Total:,.2f} Tonnes\")"
      ],
      "metadata": {
        "colab": {
          "base_uri": "https://localhost:8080/"
        },
        "id": "LTP7JhkKCnsG",
        "outputId": "d70a1bbd-61e3-4459-a111-2d59f6ac136f"
      },
      "execution_count": 37,
      "outputs": [
        {
          "output_type": "stream",
          "name": "stdout",
          "text": [
            "Total Area: 0.00\n",
            "\n",
            "\n",
            "Error occurred while processing Mobile_Fuel\n",
            "Error: Types of Transportation not found in the Mobile_Fuel\n",
            "Traceback (most recent call last):\n",
            "  File \"<ipython-input-35-a2ca5ac91104>\", line 37, in calculate_emissions_from_mobile_fuel\n",
            "    mobile_fuel_code_data = mf.get_mobile_fuel_code_data()\n",
            "  File \"<ipython-input-28-fd5554fae64c>\", line 36, in get_mobile_fuel_code_data\n",
            "    raise AttributeError(f\"{mobile_fuel_code_col_name} not found in the {self.sheet_name}\")\n",
            "AttributeError: Types of Transportation not found in the Mobile_Fuel\n",
            "\n",
            "Error occurred while processing Mobile_Fuel\n",
            "Error: Types of Transportation not found in the Mobile_Fuel\n",
            "Traceback (most recent call last):\n",
            "  File \"<ipython-input-35-a2ca5ac91104>\", line 37, in calculate_emissions_from_mobile_fuel\n",
            "    mobile_fuel_code_data = mf.get_mobile_fuel_code_data()\n",
            "  File \"<ipython-input-28-fd5554fae64c>\", line 36, in get_mobile_fuel_code_data\n",
            "    raise AttributeError(f\"{mobile_fuel_code_col_name} not found in the {self.sheet_name}\")\n",
            "AttributeError: Types of Transportation not found in the Mobile_Fuel\n",
            "\n",
            "Error occurred while processing Mobile_Fuel\n",
            "Error: Types of Transportation not found in the Mobile_Fuel\n",
            "Traceback (most recent call last):\n",
            "  File \"<ipython-input-35-a2ca5ac91104>\", line 37, in calculate_emissions_from_mobile_fuel\n",
            "    mobile_fuel_code_data = mf.get_mobile_fuel_code_data()\n",
            "  File \"<ipython-input-28-fd5554fae64c>\", line 36, in get_mobile_fuel_code_data\n",
            "    raise AttributeError(f\"{mobile_fuel_code_col_name} not found in the {self.sheet_name}\")\n",
            "AttributeError: Types of Transportation not found in the Mobile_Fuel\n",
            "\n",
            "A1 Air Emission\n",
            "from Mobile Source:\n",
            "NOx emission: 0.00 KG\n",
            "SOx emission: 0.00 KG\n",
            "PM emission: 0.00 KG\n",
            "\n",
            "\n",
            "A2 GHG Emission Scope 1\n",
            "from Mobile Source:\n",
            "CO2 emission: 0.00 Tonnes of CO2e\n",
            "CH4 emission: 0.00 Tonnes of CO2e\n",
            "N2O emission: 0.00 Tonnes of CO2e\n",
            "Subtotal: 0.00 Tonnes of CO2e\n",
            "\n",
            "\n",
            "Energy usage in KPI_Data_Collection_Table_SCL is 0 kWh\n",
            "Energy usage in KPI_Data_Collection_Table_SCBL is 0 kWh\n",
            "Error occurred while processing Energy_Consumption\n",
            "Error: Energy Consumption not found in the Energy_Consumption\n",
            "Traceback (most recent call last):\n",
            "  File \"<ipython-input-35-a2ca5ac91104>\", line 98, in calculate_emissions_from_energy_consumption\n",
            "    energy_consumption_data = ec.get_energy_data()\n",
            "  File \"<ipython-input-29-4963d60cdf21>\", line 12, in get_energy_data\n",
            "    raise AttributeError(f\"{energy_consumption_col_name} not found in the {self.sheet_name}\")\n",
            "AttributeError: Energy Consumption not found in the Energy_Consumption\n",
            "\n",
            "A2 GHG Emission Scope 2\n",
            "from Energy Consumption:\n",
            "CO2 emission: 0.00 Tonnes of CO2e\n",
            "\n",
            "\n",
            "A2 Total GHG Emission: 0.00000 Tonnes of CO2e\n",
            "A2 Total GHG Emission Intensity: 0.00 Tonnes of CO2e/m2\n",
            "A2 Total GHG Emission Intensity: 0.00 KG of CO2e/m2\n",
            "\n",
            "\n",
            "KPI_Data_Collection_Table_SCL 0.0011249099999999996\n",
            "KPI_Data_Collection_Table_SCBL 0.0\n",
            "KPI_Data_Collection_Table_EISAL 0.0\n",
            "A3 Total Paper Consumption: 0.00112 Tonnes\n",
            "\n",
            "\n",
            "B1 Electricity Consumption: 0.00 Tonnes\n",
            "\n",
            "\n",
            "Error occurred while processing Water_Consumption\n",
            "Error: Water Consumption not found in the Water_Consumption\n",
            "Traceback (most recent call last):\n",
            "  File \"<ipython-input-35-a2ca5ac91104>\", line 149, in calculate_emissions_from_water_consumption\n",
            "    water_consumption_data = wc.get_paper_data()\n",
            "  File \"<ipython-input-31-6ae68011796d>\", line 12, in get_paper_data\n",
            "    raise AttributeError(f\"{water_consumption_col_name} not found in the {self.sheet_name}\")\n",
            "AttributeError: Water Consumption not found in the Water_Consumption\n",
            "\n",
            "Error occurred while processing Water_Consumption\n",
            "Error: Water Consumption not found in the Water_Consumption\n",
            "Traceback (most recent call last):\n",
            "  File \"<ipython-input-35-a2ca5ac91104>\", line 149, in calculate_emissions_from_water_consumption\n",
            "    water_consumption_data = wc.get_paper_data()\n",
            "  File \"<ipython-input-31-6ae68011796d>\", line 12, in get_paper_data\n",
            "    raise AttributeError(f\"{water_consumption_col_name} not found in the {self.sheet_name}\")\n",
            "AttributeError: Water Consumption not found in the Water_Consumption\n",
            "\n",
            "Error occurred while processing Water_Consumption\n",
            "Error: Water Consumption not found in the Water_Consumption\n",
            "Traceback (most recent call last):\n",
            "  File \"<ipython-input-35-a2ca5ac91104>\", line 149, in calculate_emissions_from_water_consumption\n",
            "    water_consumption_data = wc.get_paper_data()\n",
            "  File \"<ipython-input-31-6ae68011796d>\", line 12, in get_paper_data\n",
            "    raise AttributeError(f\"{water_consumption_col_name} not found in the {self.sheet_name}\")\n",
            "AttributeError: Water Consumption not found in the Water_Consumption\n",
            "\n",
            "B2 Total Water Consumption: 0.00 Tonnes\n"
          ]
        }
      ]
    }
  ]
}
